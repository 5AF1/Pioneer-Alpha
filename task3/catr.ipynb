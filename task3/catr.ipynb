{
 "cells": [
  {
   "cell_type": "markdown",
   "metadata": {},
   "source": [
    "<a \n",
    "href=\"https://colab.research.google.com/github/5af1/Pioneer-Alpha/task3/catr.ipynb\"\n",
    "target=\"_parent\">\n",
    "<img \n",
    "src=\"https://colab.research.google.com/assets/colab-badge.svg\" \n",
    "alt=\"Open In Colab\"/>\n",
    "\n",
    "</a>"
   ]
  },
  {
   "cell_type": "code",
   "execution_count": null,
   "metadata": {},
   "outputs": [],
   "source": []
  }
 ],
 "metadata": {
  "language_info": {
   "name": "python"
  },
  "orig_nbformat": 4
 },
 "nbformat": 4,
 "nbformat_minor": 2
}
