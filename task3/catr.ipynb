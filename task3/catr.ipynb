{
  "cells": [
    {
      "cell_type": "markdown",
      "metadata": {
        "id": "VN0Muv10IPQO"
      },
      "source": [
        "<a \n",
        "href=\"https://colab.research.google.com/github/5af1/Pioneer-Alpha/blob/master/task3/catr.ipynb\"\n",
        "target=\"_parent\">\n",
        "<!--- \"https://colab.research.google.com/github/saahiluppal/catr/blob/master/catr_demo.ipynb\" -->\n",
        "<img \n",
        "src=\"https://colab.research.google.com/assets/colab-badge.svg\" \n",
        "alt=\"Open In Colab\"/></a>\n",
        "\n",
        "<!--- This is an HTML comment in Markdown -->"
      ]
    },
    {
      "cell_type": "code",
      "execution_count": null,
      "metadata": {
        "id": "0nNwvp-LIPQQ"
      },
      "outputs": [],
      "source": [
        "! git clone --recursive https://github.com/5AF1/Pioneer-Alpha.git"
      ]
    }
  ],
  "metadata": {
    "colab": {
      "include_colab_link": true,
      "name": "catr.ipynb",
      "provenance": []
    },
    "language_info": {
      "name": "python"
    },
    "orig_nbformat": 4
  },
  "nbformat": 4,
  "nbformat_minor": 0
}
