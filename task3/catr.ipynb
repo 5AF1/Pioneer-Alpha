{
  "cells": [
    {
      "cell_type": "markdown",
      "metadata": {
        "id": "view-in-github",
        "colab_type": "text"
      },
      "source": [
        "<a href=\"https://colab.research.google.com/github/5AF1/Pioneer-Alpha/blob/main/task3/catr.ipynb\" target=\"_parent\"><img src=\"https://colab.research.google.com/assets/colab-badge.svg\" alt=\"Open In Colab\"/></a>"
      ]
    },
    {
      "cell_type": "markdown",
      "metadata": {
        "id": "VN0Muv10IPQO"
      },
      "source": [
        "<a \n",
        "href=\"https://colab.research.google.com/github/5af1/Pioneer-Alpha/blob/master/task3/catr.ipynb\"\n",
        "target=\"_parent\">\n",
        "<!--- \"https://colab.research.google.com/github/saahiluppal/catr/blob/master/catr_demo.ipynb\" -->\n",
        "<img \n",
        "src=\"https://colab.research.google.com/assets/colab-badge.svg\" \n",
        "alt=\"Open In Colab\"/></a>\n",
        "\n",
        "<!--- This is an HTML comment in Markdown -->"
      ]
    },
    {
      "cell_type": "code",
      "execution_count": null,
      "metadata": {
        "id": "0nNwvp-LIPQQ"
      },
      "outputs": [],
      "source": [
        ""
      ]
    }
  ],
  "metadata": {
    "language_info": {
      "name": "python"
    },
    "orig_nbformat": 4,
    "colab": {
      "name": "catr.ipynb",
      "provenance": [],
      "include_colab_link": true
    }
  },
  "nbformat": 4,
  "nbformat_minor": 0
}